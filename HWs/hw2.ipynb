{
 "cells": [
  {
   "cell_type": "markdown",
   "metadata": {},
   "source": [
    "# HW2\n",
    "## Named Entity Recognition\n",
    "\n",
    "*deadline*: 21.03.2021, 00:00\n",
    "\n",
    "You should build your own NER system. You can use all pretrained models except models that trained on our test set.\n",
    "Data for this HW was taken from https://github.com/dialogue-evaluation/factRuEval-2016 and http://bsnlp.cs.helsinki.fi/shared-task.html\n",
    "\n",
    "Final score will be computed by join competition results https://www.kaggle.com/c/mipt-nlp-hw2-2021/ and minimal theory.\n",
    "For the five top places you obtain additional points:\n",
    "1. 10\n",
    "2. 8\n",
    "3. 6\n",
    "4. 5\n",
    "5. 4\n",
    "\n",
    "All submissions to any task should have your team name.\n",
    "\n",
    "## Rules\n",
    "1. Homework is done in a group of up to 3 people. If you are doing a task in a group when sending to anytask, please indicate the logins of the group members so that they can be found in the anytask system.\n",
    "2. Homework is submitted through anytask, invites will be additionally sent.\n",
    "3. Homework is made in the form of a report either in a .pdf file, or in an ipython notebook.\n",
    "4. The report should contain: the numbering of tasks and items that you completed, the solution code, and a clear step-by-step description of what you did. The report should be written in an academic style, without excessive use of slang and in compliance with the norms of the Russian language.\n",
    "5. Do not copy fragments of lectures, articles and Wikipedia into your report.\n",
    "6. Reports consisting solely of code will not be validated and will automatically be scored at zero.\n",
    "7. Plagiarism and any unfair quotation leads to zeroing of the score.\n",
    "\n",
    "\n",
    "## Part 1 [3 point] Analyze and prepare.\n",
    "1. Analyze distribution of labels and draw a plot.\n",
    "2. Remove unexcepted labels from data (if it's needed) and describe how (if it's needed).\n",
    "\n",
    "## Part 2 [4 point] Try a baseline.\n",
    "1. Performe baseline from this tutorial https://sklearn-crfsuite.readthedocs.io/en/latest/tutorial.html.\n",
    "2. Make crossvalidation.\n",
    "3. Describe your features and results.\n",
    "\n",
    "## Part 3. [2 point] Try your favorite ML algorithm.\n",
    "1. Make submission to leaderboard and beat a baseline with your favorite ML algorithm (0.55 macro f1).\n",
    "2. Plot learning curves (if your algo is not rule-based).\n",
    "3. Describe your solution (or one of your solutions) and results.\n",
    "Also here your can do many experiments.\n",
    "\n",
    "## Part 4. [1 point] Results.\n",
    "Describe your results and experiments."
   ]
  },
  {
   "cell_type": "code",
   "execution_count": null,
   "metadata": {},
   "outputs": [],
   "source": []
  }
 ],
 "metadata": {
  "kernelspec": {
   "display_name": "Python 3",
   "language": "python",
   "name": "python3"
  },
  "language_info": {
   "codemirror_mode": {
    "name": "ipython",
    "version": 3
   },
   "file_extension": ".py",
   "mimetype": "text/x-python",
   "name": "python",
   "nbconvert_exporter": "python",
   "pygments_lexer": "ipython3",
   "version": "3.7.8"
  }
 },
 "nbformat": 4,
 "nbformat_minor": 4
}
