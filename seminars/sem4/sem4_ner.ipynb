{
 "cells": [
  {
   "cell_type": "markdown",
   "metadata": {},
   "source": [
    "### Install env"
   ]
  },
  {
   "cell_type": "code",
   "execution_count": null,
   "metadata": {},
   "outputs": [],
   "source": [
    "!pip install gensim"
   ]
  },
  {
   "cell_type": "code",
   "execution_count": null,
   "metadata": {},
   "outputs": [],
   "source": [
    "!https://rusvectores.org/static/models/rusvectores4/fasttext/araneum_none_fasttextskipgram_300_5_2018.tgz"
   ]
  },
  {
   "cell_type": "code",
   "execution_count": null,
   "metadata": {},
   "outputs": [],
   "source": [
    "!tar -C / -xzf araneum_none_fasttextskipgram_300_5_2018.tgz embeds"
   ]
  },
  {
   "cell_type": "code",
   "execution_count": null,
   "metadata": {},
   "outputs": [],
   "source": [
    "!pip install sklearn-crfsuite"
   ]
  },
  {
   "cell_type": "markdown",
   "metadata": {},
   "source": [
    "Data from https://github.com/dialogue-evaluation/factRuEval-2016"
   ]
  },
  {
   "cell_type": "markdown",
   "metadata": {},
   "source": [
    "### Run exps\n",
    "FactRuEval-2016 competition of NER\n",
    "http://www.dialog-21.ru/evaluation/2016/letter/\n",
    "\n"
   ]
  },
  {
   "cell_type": "code",
   "execution_count": 1,
   "metadata": {},
   "outputs": [],
   "source": [
    "%load_ext autoreload\n",
    "%autoreload 2\n",
    "\n",
    "\n",
    "import sys\n",
    "import warnings\n",
    "\n",
    "\n",
    "warnings.filterwarnings(\"ignore\")\n",
    "sys.path.append(\"ner-bert/\")"
   ]
  },
  {
   "cell_type": "code",
   "execution_count": 2,
   "metadata": {},
   "outputs": [],
   "source": [
    "import gensim"
   ]
  },
  {
   "cell_type": "code",
   "execution_count": 3,
   "metadata": {},
   "outputs": [],
   "source": [
    "model = gensim.models.KeyedVectors.load('embeds/araneum_none_fasttextskipgram_300_5_2018.model')"
   ]
  },
  {
   "cell_type": "code",
   "execution_count": 4,
   "metadata": {},
   "outputs": [],
   "source": [
    "from src.learner import NerLearner, validate_step"
   ]
  },
  {
   "cell_type": "code",
   "execution_count": 14,
   "metadata": {},
   "outputs": [],
   "source": [
    "import pandas as pd"
   ]
  },
  {
   "cell_type": "code",
   "execution_count": 15,
   "metadata": {},
   "outputs": [],
   "source": [
    "df = pd.read_csv(\"data/train.csv\", sep=\"\\t\")"
   ]
  },
  {
   "cell_type": "code",
   "execution_count": 23,
   "metadata": {},
   "outputs": [
    {
     "data": {
      "text/html": [
       "<div>\n",
       "<style scoped>\n",
       "    .dataframe tbody tr th:only-of-type {\n",
       "        vertical-align: middle;\n",
       "    }\n",
       "\n",
       "    .dataframe tbody tr th {\n",
       "        vertical-align: top;\n",
       "    }\n",
       "\n",
       "    .dataframe thead th {\n",
       "        text-align: right;\n",
       "    }\n",
       "</style>\n",
       "<table border=\"1\" class=\"dataframe\">\n",
       "  <thead>\n",
       "    <tr style=\"text-align: right;\">\n",
       "      <th></th>\n",
       "      <th>labels</th>\n",
       "      <th>text</th>\n",
       "      <th>clf</th>\n",
       "    </tr>\n",
       "  </thead>\n",
       "  <tbody>\n",
       "    <tr>\n",
       "      <th>0</th>\n",
       "      <td>O O O O O O B_ORG I_ORG O B_LOC I_LOC O O O O ...</td>\n",
       "      <td>В понедельник 28 июня у здания мэрии Москвы на...</td>\n",
       "      <td>False</td>\n",
       "    </tr>\n",
       "    <tr>\n",
       "      <th>1</th>\n",
       "      <td>O O O O O O O O O O O B_LOC B_PER I_PER O O O ...</td>\n",
       "      <td>Среди требований , выдвигаемых организаторами ...</td>\n",
       "      <td>False</td>\n",
       "    </tr>\n",
       "    <tr>\n",
       "      <th>2</th>\n",
       "      <td>O O O O O O O O O O O O O O O O O O O O B_PER ...</td>\n",
       "      <td>Участникам акции предлагалось принести с собой...</td>\n",
       "      <td>False</td>\n",
       "    </tr>\n",
       "    <tr>\n",
       "      <th>3</th>\n",
       "      <td>O O O O O O O O O O O O O O O O O</td>\n",
       "      <td>Начало акции было намечено на 19 часов ; подчё...</td>\n",
       "      <td>True</td>\n",
       "    </tr>\n",
       "    <tr>\n",
       "      <th>4</th>\n",
       "      <td>O O O O O O O O O O O O O B_LOC I_LOC I_LOC O ...</td>\n",
       "      <td>Освещающие акцию блоггеры сообщили , что автоб...</td>\n",
       "      <td>False</td>\n",
       "    </tr>\n",
       "  </tbody>\n",
       "</table>\n",
       "</div>"
      ],
      "text/plain": [
       "                                              labels  \\\n",
       "0  O O O O O O B_ORG I_ORG O B_LOC I_LOC O O O O ...   \n",
       "1  O O O O O O O O O O O B_LOC B_PER I_PER O O O ...   \n",
       "2  O O O O O O O O O O O O O O O O O O O O B_PER ...   \n",
       "3                  O O O O O O O O O O O O O O O O O   \n",
       "4  O O O O O O O O O O O O O B_LOC I_LOC I_LOC O ...   \n",
       "\n",
       "                                                text    clf  \n",
       "0  В понедельник 28 июня у здания мэрии Москвы на...  False  \n",
       "1  Среди требований , выдвигаемых организаторами ...  False  \n",
       "2  Участникам акции предлагалось принести с собой...  False  \n",
       "3  Начало акции было намечено на 19 часов ; подчё...   True  \n",
       "4  Освещающие акцию блоггеры сообщили , что автоб...  False  "
      ]
     },
     "execution_count": 23,
     "metadata": {},
     "output_type": "execute_result"
    }
   ],
   "source": [
    "df.head()"
   ]
  },
  {
   "cell_type": "code",
   "execution_count": 17,
   "metadata": {},
   "outputs": [
    {
     "data": {
      "text/plain": [
       "BiLSTMCRF(\n",
       "  (embeddings): Embedding(22331, 300)\n",
       "  (lstm): BiLSTM(\n",
       "    (dropout): Dropout(p=0.3, inplace=False)\n",
       "    (lstm): LSTM(300, 512, batch_first=True, bidirectional=True)\n",
       "  )\n",
       "  (crf): CRFDecoder(\n",
       "    (input_dropout): Dropout(p=0.5, inplace=False)\n",
       "    (linear): Linears(\n",
       "      (linears): ModuleList(\n",
       "        (0): Linear(in_features=1024, out_features=512, bias=True)\n",
       "      )\n",
       "      (output_linear): Linear(in_features=512, out_features=8, bias=True)\n",
       "    )\n",
       "    (crf): CRF()\n",
       "  )\n",
       ")"
      ]
     },
     "execution_count": 17,
     "metadata": {},
     "output_type": "execute_result"
    }
   ],
   "source": [
    "learn.model"
   ]
  },
  {
   "cell_type": "code",
   "execution_count": null,
   "metadata": {},
   "outputs": [],
   "source": []
  },
  {
   "cell_type": "code",
   "execution_count": 15,
   "metadata": {},
   "outputs": [],
   "source": [
    "learn = NerLearner(\n",
    "    train_df_path=\"data/train.csv\",\n",
    "    valid_df_path=\"data/test.csv\",\n",
    "    embedder=model,\n",
    "    tensorboard_dir=\"logs\",\n",
    "    hidden_dim=1024,\n",
    "    lr=0.0004,\n",
    "    use_embeds=False\n",
    ")"
   ]
  },
  {
   "cell_type": "code",
   "execution_count": 16,
   "metadata": {},
   "outputs": [
    {
     "data": {
      "text/plain": [
       "3863148"
      ]
     },
     "execution_count": 16,
     "metadata": {},
     "output_type": "execute_result"
    }
   ],
   "source": [
    "sum([p.numel() for p in learn.model.parameters() if p.requires_grad])"
   ]
  },
  {
   "cell_type": "code",
   "execution_count": 17,
   "metadata": {},
   "outputs": [],
   "source": [
    "# for b in learn.data.train_dl:\n",
    "#     break"
   ]
  },
  {
   "cell_type": "code",
   "execution_count": 18,
   "metadata": {},
   "outputs": [],
   "source": [
    "# learn.model.forward(b)"
   ]
  },
  {
   "cell_type": "code",
   "execution_count": null,
   "metadata": {
    "scrolled": true
   },
   "outputs": [],
   "source": [
    "learn.fit(10)"
   ]
  },
  {
   "cell_type": "code",
   "execution_count": 21,
   "metadata": {},
   "outputs": [
    {
     "name": "stderr",
     "output_type": "stream",
     "text": [
      "                                                 \r"
     ]
    },
    {
     "name": "stdout",
     "output_type": "stream",
     "text": [
      "              precision    recall  f1-score   support\n",
      "\n",
      "       B_LOC      0.333     0.014     0.026      1324\n",
      "       B_ORG      0.513     0.118     0.191      1905\n",
      "       B_PER      0.245     0.017     0.032      1335\n",
      "       I_LOC      0.286     0.009     0.017       233\n",
      "       I_ORG      0.478     0.137     0.213      1960\n",
      "       I_PER      0.291     0.055     0.093       777\n",
      "           O      0.880     0.993     0.933     48875\n",
      "\n",
      "    accuracy                          0.870     56409\n",
      "   macro avg      0.432     0.192     0.215     56409\n",
      "weighted avg      0.816     0.870     0.825     56409\n",
      "\n"
     ]
    }
   ],
   "source": [
    "print(validate_step(learn.data.valid_dl, learn.model, learn.data.train_ds.idx2label))"
   ]
  },
  {
   "cell_type": "markdown",
   "metadata": {},
   "source": [
    "### Try to learn embeddings"
   ]
  },
  {
   "cell_type": "code",
   "execution_count": 5,
   "metadata": {},
   "outputs": [],
   "source": [
    "learn = NerLearner(\n",
    "    train_df_path=\"data/train.csv\",\n",
    "    valid_df_path=\"data/test.csv\",\n",
    "    embedder=model,\n",
    "    tensorboard_dir=\"logs\",\n",
    "    hidden_dim=1024,\n",
    "    lr=0.0004,\n",
    "    use_embeds=True\n",
    ")"
   ]
  },
  {
   "cell_type": "code",
   "execution_count": 6,
   "metadata": {},
   "outputs": [
    {
     "data": {
      "text/plain": [
       "10562448"
      ]
     },
     "execution_count": 6,
     "metadata": {},
     "output_type": "execute_result"
    }
   ],
   "source": [
    "sum([p.numel() for p in learn.model.parameters() if p.requires_grad])"
   ]
  },
  {
   "cell_type": "code",
   "execution_count": 7,
   "metadata": {},
   "outputs": [
    {
     "data": {
      "text/plain": [
       "BiLSTMCRF(\n",
       "  (embeddings): Embedding(22331, 300)\n",
       "  (lstm): BiLSTM(\n",
       "    (dropout): Dropout(p=0.3, inplace=False)\n",
       "    (lstm): LSTM(300, 512, batch_first=True, bidirectional=True)\n",
       "  )\n",
       "  (crf): CRFDecoder(\n",
       "    (input_dropout): Dropout(p=0.5, inplace=False)\n",
       "    (linear): Linears(\n",
       "      (linears): ModuleList(\n",
       "        (0): Linear(in_features=1024, out_features=512, bias=True)\n",
       "      )\n",
       "      (output_linear): Linear(in_features=512, out_features=8, bias=True)\n",
       "    )\n",
       "    (crf): CRF()\n",
       "  )\n",
       ")"
      ]
     },
     "execution_count": 7,
     "metadata": {},
     "output_type": "execute_result"
    }
   ],
   "source": [
    "learn.model"
   ]
  },
  {
   "cell_type": "code",
   "execution_count": null,
   "metadata": {
    "scrolled": true
   },
   "outputs": [],
   "source": [
    "learn.fit(10)"
   ]
  },
  {
   "cell_type": "code",
   "execution_count": 12,
   "metadata": {},
   "outputs": [
    {
     "name": "stderr",
     "output_type": "stream",
     "text": [
      "                                                 \r"
     ]
    },
    {
     "name": "stdout",
     "output_type": "stream",
     "text": [
      "              precision    recall  f1-score   support\n",
      "\n",
      "       <pad>      0.000     0.000     0.000         0\n",
      "       B_LOC      0.678     0.461     0.549      1324\n",
      "       B_ORG      0.544     0.169     0.257      1905\n",
      "       B_PER      0.597     0.172     0.267      1335\n",
      "       I_LOC      0.232     0.056     0.090       233\n",
      "       I_ORG      0.404     0.135     0.203      1960\n",
      "       I_PER      0.591     0.230     0.331       777\n",
      "           O      0.900     0.986     0.941     48875\n",
      "\n",
      "    accuracy                          0.883     56409\n",
      "   macro avg      0.493     0.276     0.330     56409\n",
      "weighted avg      0.852     0.883     0.855     56409\n",
      "\n"
     ]
    }
   ],
   "source": [
    "print(validate_step(learn.data.valid_dl, learn.model, learn.data.train_ds.idx2label))"
   ]
  },
  {
   "cell_type": "code",
   "execution_count": null,
   "metadata": {},
   "outputs": [],
   "source": []
  }
 ],
 "metadata": {
  "kernelspec": {
   "display_name": "Python 3",
   "language": "python",
   "name": "python3"
  },
  "language_info": {
   "codemirror_mode": {
    "name": "ipython",
    "version": 3
   },
   "file_extension": ".py",
   "mimetype": "text/x-python",
   "name": "python",
   "nbconvert_exporter": "python",
   "pygments_lexer": "ipython3",
   "version": "3.7.8"
  }
 },
 "nbformat": 4,
 "nbformat_minor": 4
}
